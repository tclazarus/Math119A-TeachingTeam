{
 "cells": [
  {
   "cell_type": "markdown",
   "metadata": {
    "collapsed": false,
    "jupyter": {
     "outputs_hidden": false
    },
    "slideshow": {
     "slide_type": ""
    },
    "tags": []
   },
   "source": [
    "## <span style='color:#e91e63'>LAB 1 \\(Due Wed, Sep 10 by 11:59pm\\). </span>\n",
    "\n",
    "<span style='color:#e91e63'>For each exercise, make sure to transfer your answers to Gradescope for your final submission! Please note that some exercises require code while some just require an English answer to a code\\-related question. If so, begin the cell with \\# to make a comment in the code.</span>\n",
    "\n",
    "<span style='color:#e91e63'><u>Submitting:</u></span><span style='color:#e91e63'> You can keep scratch work in this notebook, but you will submit all your final responses on assignment linked from D2L, which routes you to Gradescope for your submission. Only submissions on Gradescope will be graded for credit.</span>\n",
    "\n"
   ]
  },
  {
   "cell_type": "markdown",
   "metadata": {
    "collapsed": false,
    "editable": false,
    "jupyter": {
     "outputs_hidden": false
    },
    "slideshow": {
     "slide_type": ""
    },
    "tags": []
   },
   "source": [
    "#### <span style='color:#3f51b5'>Questions 0.1\\-0.3 \\(Some basic practice\\)</span>\n",
    "\n",
    "Practice executing, tweaking, and commenting code.\n",
    "\n",
    "_Note:_ Execute the code in the cell below by pressing \"shift\" \\+ \"enter\" _or_ \"command \\+ enter\" \\(for Mac users\\).\n",
    "\n",
    "<u>**Question 0.1:**</u>     Identify the line of code that defines a function with the following characteristic:  \n",
    "\n",
    "“The dependent variable is proportional to the difference between the independent variable and some parameter, with a positive proportionality constant.” \n",
    "\n",
    "Add a comment that says \"<u>_Firstname Lastname_</u><u> picks this one</u>\" to this line of code \\(replace _Firstname_ and _Lastname_ with your own first name and last name\\).  Since this code only defines a function \\(i.e. tells SageMath what to \"remember\"\\), there will not be any output cell or displayed result. \n",
    "\n",
    "<u>**Question 0.2:**</u> Computations will assume exact values. If you want a decimal value, use a period '.' with any number in your code.  Run the given code to see for yourself! \n",
    "\n",
    "<u>**Question 0.3:**</u> Write a line of code to define a function $d(x) = \\sqrt{x} \\cdot x$ and another line of code to compute the decimal approximation of the value of $d(x)$ at $x=72$.\n",
    "\n"
   ]
  },
  {
   "cell_type": "code",
   "execution_count": 18,
   "metadata": {
    "collapsed": false,
    "jupyter": {
     "outputs_hidden": false
    },
    "slideshow": {
     "slide_type": ""
    },
    "tags": []
   },
   "outputs": [],
   "source": [
    "# Question 0.1\n",
    "K = -12\n",
    "a(x) = x * K\n",
    "b(x) = K * (x - 0.8)\n",
    "c(x) = sqrt(-K) * (1 - x)"
   ]
  },
  {
   "cell_type": "code",
   "execution_count": null,
   "metadata": {
    "collapsed": false,
    "editable": false,
    "jupyter": {
     "outputs_hidden": false
    },
    "slideshow": {
     "slide_type": ""
    },
    "tags": []
   },
   "outputs": [],
   "source": [
    "# Question 0.2 (exact values)\n",
    "# Compute the square root of x^3 + 95\n",
    "f(x) = sqrt(x^3 + 95) # This line defines the function.  \n",
    "print(\"This is the output for f(1):\", f(1), \".\", \"This is the output for f(1.):\", f(1.), \".\", \"And this is the output for f(1.0):\", f(1.0), \".\") # Formats the result (see output!)"
   ]
  },
  {
   "cell_type": "code",
   "execution_count": 1,
   "metadata": {
    "collapsed": false,
    "editable": true,
    "jupyter": {
     "outputs_hidden": false
    },
    "slideshow": {
     "slide_type": ""
    },
    "tags": []
   },
   "outputs": [],
   "source": [
    "# Question 0.3 (see instructions above)\n"
   ]
  },
  {
   "cell_type": "markdown",
   "metadata": {
    "collapsed": false,
    "editable": false,
    "jupyter": {
     "outputs_hidden": false
    }
   },
   "source": [
    "#### <span style='color:#3f51b5'><span style='font-family:Arial'>**Questions 1.1\\-1.3 \\(Basics of reading syntax in code\\)**</span></span>\n",
    "\n",
    "This exercise will be more clear if you have completed all parts of Question 0. \n",
    "\n",
    "<u>**Question 1.1**</u>**:** What does the symbol \\# do in the code? _\\(Answer in Gradescope\\)_\n",
    "\n",
    "\n",
    "<u>**Question 1.2:**</u> Why does the code in Exercise 0.1 not display an output box? _\\(Answer in Gradescope\\)_\n",
    "\n",
    "\n",
    "<u>**Question 1.3:**</u> Which of the following lines could be added to generate an output box without any errors? Select all that apply. _\\(Answer in Gradescope\\)_\n"
   ]
  },
  {
   "cell_type": "markdown",
   "metadata": {
    "collapsed": false,
    "editable": false,
    "jupyter": {
     "outputs_hidden": false
    },
    "slideshow": {
     "slide_type": ""
    },
    "tags": []
   },
   "source": [
    "#### <span style='font-family:Arial'><span style='color:#3f51b5'>**Questions 2.1\\-2.5 \\(Canine Cognition Study\\)**</span></span>\n",
    "\n",
    "The Arizona Canine Cognition Center at the University of Arizona studies canine psychology.  The questions below reference results from two different studies by this center.  The links are provided for reference only.  You have all the information needed as given in the question prompts below. \n",
    "\n",
    "<u>**Question 2.1**</u>**:** This center recently published a paper that compares similarities and differences between canine cognitive health and aging, using these observations to compare with trends in human cognitive health and aging. \n",
    "\n",
    "_Article \\(for reference\\):_ [https://dogs.arizona.edu/sites/default/files/documents/Publication\\-PDFs/ruple\\-et\\-al\\-2022\\-dog\\-models\\-of\\-aging.pdf](https://dogs.arizona.edu/sites/default/files/documents/Publication-PDFs/ruple-et-al-2022-dog-models-of-aging.pdf) \n",
    "\n",
    "In the study above, researchers point out that dogs develop similar types of cancer as humans, but at a faster rate.  Additionally, observing health trends in dogs is a good model for similar environmental exposures that humans experience due to the commonality of shared living environments.  For example, household pesticides and cleaning agents are both chemicals that humans and their dog companions might routinely encounter \\(p.424\\).   Additionally, cognitive health can be linked to similar factors in dogs as in humans; and some of these factors include continuation of daily acitivities, mobility, and social interaction \\(p.425\\).  Based on this description, what are possible state variables for modeling the health of a dog? See Gradescope of options. You will also explain any answers that you did not select.  _\\(Answer in Gradescope\\)_\n",
    "\n",
    "<u>**Question 2.2:**</u> Another study by this center observed hormone levels in dogs before and after the introduction of a stimulus. \n",
    "\n",
    "- _Article_: https://www.sciencedaily.com/releases/2017/09/170927162032.htm\n",
    "- _Paper:_ https://www.frontiersin.org/journals/psychology/articles/10.3389/fpsyg.2017.01613/full \n",
    "\n",
    "In the study above, researchers found that dogs in the research study generally had lower levels of oxytocin than a comparison group of dogs specifically bred for non\\-aggression \\(assistance dogs\\). Research results suggested that oxytocin may help inhibit aggression in dogs and lower levels of vasopressin, which is associated with stressful or aggressive behavior. Suppose we have the following two states of a dog's hormone levels:\n",
    "\n",
    "- _State A:_ 140pg/mL of oxytocin and 54 pg/mL of vasopressin \\(15 minutes into the observation\\); and\n",
    "- _State B_: 135pg/mL of oxytocin and 51pg/mL of vasopressin \\(30 minutes into the observation\\).\n",
    "\n",
    "Determine the state points of the given information in the form **\\(V,O\\)**.\n",
    "\n",
    "<u>**Question 2.3:**</u> Using the same information as the previous part, assume that time is measured in hours.  What value of $t$ corresponds to State A?  _\\(Answer in Gradescope\\)_\n",
    "\n",
    "<u>**Question 2.4**</u>**:**  Run the code given below to generate a plot of data.  Use the randomly generated plot in your Sagemath notebook to determine which data point\\(s\\) correspond to the highest level of vasopressin.  How do you know? _\\(Answer in Gradescope; you will upload a screenshot of your output cell.\\)_\n",
    "\n",
    "<u>**Question 2.5**</u>**:** Use the same plot from Question 2.4 in your Sagemath notebook to determine which data point\\(s\\) corresponds to more vasopressin than oxytocin.  How do you know? _\\(Answer in Gradescope\\)_\n",
    "\n"
   ]
  },
  {
   "cell_type": "code",
   "execution_count": null,
   "metadata": {
    "collapsed": false,
    "editable": false,
    "jupyter": {
     "outputs_hidden": false
    },
    "slideshow": {
     "slide_type": ""
    },
    "tags": []
   },
   "outputs": [],
   "source": [
    "# Sample code for Parts 2.4 and 2.5\n",
    "botleft = dict(horizontal_alignment='left', vertical_alignment='bottom')\n",
    "Points = []\n",
    "for p in srange(5):\n",
    "    datapoint = (uniform(2,3), uniform(2,3))\n",
    "    Points.append(datapoint)\n",
    "# print(Points)\n",
    "DogPlot = list_plot(Points, axes_labels=[\"V\",\"O\"], fontsize = 10)\n",
    "A = text(r'Point A', Points[0], **botleft)\n",
    "B = text(r'Point B', Points[1], **botleft)\n",
    "C = text(r'Point C', Points[2], **botleft)\n",
    "D = text(r'Point D', Points[3], **botleft)\n",
    "E = text(r'Point E', Points[4], **botleft)\n",
    "show(DogPlot + A + B + C + D + E)\n",
    "# Hit 'shift + enter' to generate a plot of data points. "
   ]
  },
  {
   "cell_type": "markdown",
   "metadata": {
    "collapsed": false,
    "editable": false,
    "jupyter": {
     "outputs_hidden": false
    },
    "slideshow": {
     "slide_type": ""
    },
    "tags": []
   },
   "source": [
    "#### <span style='font-family:Arial'><span style='color:#3f51b5'>**Questions 3.1\\-3.3:**</span></span>\n",
    "\n",
    "In this class, we will want to plot time series and state spaces to better visualize our models. SageMath has a pre\\-defined function for graphing, called <span style='font-family:Courier'>plot\\(\\)</span>.  The \"argument\" of plot is everything that goes inside the parentheses that will impact the end result, which is a graph \\(or plot\\).  In the argument of the <span style='font-family:Courier'>plot\\(\\)</span> function, we can write a comma\\-separated list of plotting options.  It is important to keep several things in mind for the argument of this plot function. \n",
    "\n",
    "- In this argument, always list the function first, then domain restrictions, and plot options last.  \\(Plot options specify color, graph thickness, axes labels, etc.\\) \n",
    "- Plot options can include changing the vertical viewing window, plot color, line thickness, axes labels, etc.\n",
    "- Each component of the argument is separated by a comma.\n",
    "\n",
    "For example, the argument of the last Practice Exercise \\(from the Intro Lab day\\) is <span style='font-family:Courier'>y\\(x\\), \\(x, \\-100, 100\\)</span>.  The components of this argument are the function being graphed and the horizontal viewing window.  Use this information and the provided code to answer all parts for Question 3. \n",
    "\n",
    "<u>**Question 3.1:**</u> Based on the sample code provided below, which component\\(s\\) of the argument determine\\(s\\) the vertical viewing window?  Select all that apply. _\\(Answer in Gradescope\\)_\n",
    "\n",
    "<u>**Question 3.2:**</u> What is the function being plotted \\(graphed\\)?  _\\(Answer in Gradescope\\)_\n",
    "\n",
    "<u>**Question 3.3:**</u> How can you tweak the code so that you can see the value that represents $g(-1)$ in the output graph? _\\(Answer in Gradescope\\)_\n",
    "\n"
   ]
  },
  {
   "cell_type": "code",
   "execution_count": null,
   "metadata": {
    "collapsed": false,
    "editable": false,
    "jupyter": {
     "outputs_hidden": false
    },
    "slideshow": {
     "slide_type": ""
    },
    "tags": []
   },
   "outputs": [],
   "source": [
    "# Sample code for Question 3\n",
    "g(x) = x^3*(x-5)*e^(-x)\n",
    "plot(g,(x, 0, 15), ymin = -4, ymax = 1, thickness = 5, axes_labels=[\"x\",\"y = g(x)\"], fontsize = 8, color = 'mediumvioletred')"
   ]
  },
  {
   "cell_type": "code",
   "execution_count": null,
   "metadata": {
    "collapsed": false,
    "jupyter": {
     "outputs_hidden": false
    }
   },
   "outputs": [],
   "source": [
    "# Copy & paste code above or just use this for scratch work"
   ]
  },
  {
   "cell_type": "markdown",
   "metadata": {
    "collapsed": false,
    "editable": false,
    "jupyter": {
     "outputs_hidden": false
    }
   },
   "source": [
    "#### <span style='color:#3f51b5'><span style='font-family:Arial'>**Questions 4.1\\-4.3**</span></span>\n",
    "\n",
    "Use the provided code to answer both parts of Question 4. \n",
    "\n",
    "<u>**Question 4.1:**</u> Suppose that you know \\(5, 7\\) is a point on the graph of $line1(x)$.  Determine what must be TRUE about the parameters for $line1(x)$. _\\(Answer in Gradescope\\)_\n",
    "\n",
    "\n"
   ]
  },
  {
   "cell_type": "code",
   "execution_count": null,
   "metadata": {
    "collapsed": false,
    "editable": false,
    "jupyter": {
     "outputs_hidden": false
    }
   },
   "outputs": [],
   "source": [
    "# Sample code for Question 4.1\n",
    "m = 0.1\n",
    "x1 = \n",
    "y1 = \n",
    "line1(x) = m * (x - x1) + y1"
   ]
  },
  {
   "cell_type": "code",
   "execution_count": null,
   "metadata": {
    "collapsed": false,
    "jupyter": {
     "outputs_hidden": false
    }
   },
   "outputs": [],
   "source": [
    "# Copy and Paste, then modify here."
   ]
  },
  {
   "cell_type": "markdown",
   "metadata": {
    "collapsed": false,
    "editable": false,
    "jupyter": {
     "outputs_hidden": false
    }
   },
   "source": [
    "<u>**Question 4.2:**</u> Tweak the given code using all of the following conditions below.  You can refer to the code in Question 3 as an example as well.\n",
    "\n",
    "\\- the slope of $line2(x)$  is equal to the number of letters in your first name \\(replace the asterisks \\*\\*\\*\\), \n",
    "\n",
    "\\- modify the color of the graph, and\n",
    "\n",
    "\\- the viewing window shows the value \\(height\\) of the function when $x = 300$. \n",
    "\n",
    "Note: D2L has a reference for different plotting colors.  In the given code, the vertical intercept has been randomly generated for you. You will upload a screenshot in Gradescope. "
   ]
  },
  {
   "cell_type": "code",
   "execution_count": null,
   "metadata": {
    "collapsed": false,
    "editable": false,
    "jupyter": {
     "outputs_hidden": false
    }
   },
   "outputs": [],
   "source": [
    "# Sample code for Question 4.2\n",
    "x1 = RR.random_element(-10,10) # Don't modify anything in this line.\n",
    "y1 = RR.random_element(-10,10) # Don't modify anything in this line.\n",
    "# Define a parameter for the slope \n",
    "*** = ***\n",
    "line2(x) = m * (x - x1) + y1 # Don't modify aything in this line.  Reading this may be helpful for the parameter you want to define in the line above. \n",
    "\n",
    "# Fill in *** as needed for the plot code below\n",
    "plot(line2(x), ***, ymin = ***, ymax = ***, color = '***')"
   ]
  },
  {
   "cell_type": "code",
   "execution_count": null,
   "metadata": {
    "collapsed": false,
    "editable": true,
    "jupyter": {
     "outputs_hidden": false
    },
    "slideshow": {
     "slide_type": ""
    },
    "tags": []
   },
   "outputs": [],
   "source": [
    "x1 = RR.random_element(-10,10) # Don't modify anything in this line.\n",
    "y1 = RR.random_element(-10,10) # Don't modify anything in this line.\n",
    "# Define a parameter for the slope \n",
    "m = 5\n",
    "line2(x) = m * (x - x1) + y1 # Don't modify aything in this line.  Reading this may be helpful for the parameter you want to define in the line above. \n",
    "\n",
    "# Fill in *** as needed for the plot code below\n",
    "plot(line2(x), (x,75,100), ymin = -10, ymax = 1800, color = 'purple', thickness=5)"
   ]
  },
  {
   "cell_type": "markdown",
   "metadata": {
    "collapsed": false,
    "editable": false,
    "jupyter": {
     "outputs_hidden": false
    }
   },
   "source": [
    "<u>**Question 4.3:**</u> Based on the slope we asked you to use, what should be true of the graph of $line2(x)$ for each student in our class for Question 4.2?  Select all that apply. \n",
    "\n",
    "- The function $line2(x)$ is always increasing.\n",
    "- The function $line2(x)$ is always decreasing. \n",
    "- The function $line2(x)$ is always positive.\n",
    "- The function $line2(x)$ is always negative.\n",
    "- The function $line2(x)$ is constant."
   ]
  },
  {
   "cell_type": "markdown",
   "metadata": {
    "collapsed": false,
    "editable": false,
    "jupyter": {
     "outputs_hidden": false
    },
    "slideshow": {
     "slide_type": ""
    },
    "tags": []
   },
   "source": [
    "#### <span style='color:#3f51b5'>**Questions 5.1\\-5.4 \\(Interpreting time series in a two\\-variable system\\)**</span>\n",
    "\n",
    "The code below simulates a set of time series for sharks and tuna, our textbook's favorite predator\\-prey system. Execute the sample code to answer the questions below.\n",
    "\n",
    "<u>**Question 5.1**</u>**:** Based on the provided model, will the population of sharks and population of tuna ever be the same size? Explain your answer based on what you see in the model. _\\(Answer in Gradescope\\)_\n",
    "\n",
    "<u>**Question**</u><u> </u><u>**5.2:**</u> Which species has a larger maximum population?  Explain how you know in 1\\-2 sentences.  _\\(Answer in Gradescope\\)_\n",
    "\n",
    "<u>**Question**</u><u> </u><u>**5.3:**</u> Based on the trends you observe in this simulated model, why do you think each population decreases after reaching a maximum size? _\\(Answer in Gradescope\\)_\n",
    "\n",
    "<u>**Question 5.4:**</u> Which population takes longer to recover and increase again after a decrease in population size?  Explain how you know in 1\\-2 sentences. _\\(Answer in Gradescope\\)_\n",
    "\n"
   ]
  },
  {
   "cell_type": "code",
   "execution_count": null,
   "metadata": {
    "collapsed": false,
    "editable": false,
    "jupyter": {
     "outputs_hidden": false
    }
   },
   "outputs": [],
   "source": [
    "# Simulation for Question 5\n",
    "from scipy.integrate import odeint\n",
    "import matplotlib.pyplot as plt\n",
    "import numpy as np\n",
    "\n",
    "#set up the change equations (aka differential equations or ODEs) for the model\n",
    "def odes(initial_values, t):\n",
    "  tuna,shark=initial_values\n",
    "  br=0.8\n",
    "  dr=0.2\n",
    "  beta=0.05\n",
    "  tprime= br*tuna-beta*shark*tuna\n",
    "  sprime= beta*shark*tuna - dr*shark\n",
    "  return [tprime, sprime]\n",
    "\n",
    "t=np.linspace(0,100,1000) #this sets up the time values for the simulation\n",
    "init = [16,30] #initial values of tuna and shark as [T,S]\n",
    "sol=odeint(odes,init,t) #simulates the model\n",
    "\n",
    "#plot simulation\n",
    "plt.plot(t,sol[:,0],label=\"tuna\",color=\"red\") #plot the tuna\n",
    "plt.plot(t,sol[:,1],label=\"sharks\",color=\"blue\") #plot the sharks\n",
    "plt.legend(loc='best') #prepare the legend\n",
    "plt.xlabel('Time') #set an x label\n",
    "plt.ylabel('Population') #set a y label\n",
    "plt.show() #show the plot\n"
   ]
  },
  {
   "cell_type": "code",
   "execution_count": null,
   "metadata": {
    "collapsed": false,
    "jupyter": {
     "outputs_hidden": false
    }
   },
   "outputs": [],
   "source": []
  }
 ],
 "metadata": {
  "kernelspec": {
   "display_name": "SageMath 10.7",
   "language": "sage",
   "name": "sagemath"
  },
  "language_info": {
   "codemirror_mode": {
    "name": "ipython",
    "version": 3
   },
   "file_extension": ".py",
   "mimetype": "text/x-python",
   "name": "python",
   "nbconvert_exporter": "python",
   "pygments_lexer": "ipython3",
   "version": "3.12.5"
  }
 },
 "nbformat": 4,
 "nbformat_minor": 4
}
