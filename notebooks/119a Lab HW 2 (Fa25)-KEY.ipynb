{
 "cells": [
  {
   "cell_type": "markdown",
   "id": "08f132",
   "metadata": {
    "collapsed": false,
    "deletable": true,
    "editable": false,
    "jupyter": {
     "outputs_hidden": false
    },
    "slideshow": {
     "slide_type": ""
    },
    "tags": [
    ]
   },
   "source": [
    "\n",
    "## <span style='color:#e91e63'>LAB 2 \\(Due Wed, Sept 17 by 11:59pm\\). </span>\n",
    "\n",
    "<span style='color:#e91e63'>For each exercise, answer in the cell below each exercise. Make sure to transfer your answers to Gradescope for your final submission! Please note that some exercises require code while some just require an English answer to a code\\-related question. If so, begin the cell with \\#.</span>\n",
    "\n",
    "<span style='color:#e91e63'><u>Submitting:</u></span><span style='color:#e91e63'> You can keep scratch work in this notebook, but you will submit all your final responses on the assignment linked from D2L, which routes you to Gradescope for your submission. </span>\n",
    "\n",
    "\n"
   ]
  },
  {
   "cell_type": "markdown",
   "id": "fe0003",
   "metadata": {
    "collapsed": false,
    "deletable": true,
    "editable": false,
    "jupyter": {
     "outputs_hidden": false
    },
    "slideshow": {
     "slide_type": ""
    },
    "tags": [
    ]
   },
   "source": [
    "#### <span style='color:#3f51b5'>Question 0.1\\-0.2 \\(Coding terminology\\)</span>\n",
    "\n",
    "Practice executing code. Comments will begin with a pound sign \\(AKA hash tag\\).  Comments will be ignored for the computation.\n",
    "\n",
    "_Note:_ Execute the code in the cell below by pressing \"shift\" \\+ \"enter\" _or_ \"command\" + \"enter\" \\(for Mac users\\).\n",
    "\n",
    "<u>**Question 0.1**</u>**:** Sagemath is particular with how we name functions because certain symbols already have a predefined meaning in the code.  Run the code as given,  where you should get an error because the apostrophe is not allowed in the name of the function.  Instead, we should give the function a name that still holds meaning for us, but avoids the notation issue.  In the cell below, copy and paste the code and change the name of the function in the code to _Xprime_ to make the cell run properly.  Run your new cell to make sure it works!\n"
   ]
  },
  {
   "cell_type": "code",
   "execution_count": 0,
   "id": "00299a",
   "metadata": {
    "collapsed": false,
    "editable": false,
    "jupyter": {
     "outputs_hidden": false
    },
    "slideshow": {
     "slide_type": ""
    },
    "tags": [
    ]
   },
   "outputs": [
   ],
   "source": [
    "# Exercise 0.1\n",
    "X'(X)= 4*X\n",
    "X'(6)"
   ]
  },
  {
   "cell_type": "code",
   "execution_count": 1,
   "id": "077f2f",
   "metadata": {
    "collapsed": false,
    "editable": true,
    "jupyter": {
    },
    "slideshow": {
     "slide_type": ""
    },
    "tags": [
    ]
   },
   "outputs": [
    {
     "data": {
      "text/plain": [
       "24"
      ]
     },
     "execution_count": 1,
     "metadata": {
     },
     "output_type": "execute_result"
    }
   ],
   "source": [
    "# Copy and paste the code above; modify below for your own work \n",
    "# Exercise 0.1\n",
    "Xprime(X)= 4*X\n",
    "Xprime(6)"
   ]
  },
  {
   "cell_type": "markdown",
   "id": "3a371d",
   "metadata": {
    "collapsed": false,
    "editable": false,
    "jupyter": {
     "outputs_hidden": false
    },
    "slideshow": {
     "slide_type": ""
    },
    "tags": [
    ]
   },
   "source": [
    "<u>**Question 0.2**</u>**:**  Sagemath naturally assumes that _x_ is our independent variable.  In class we've always used _**X**_ for a state variable, so if we want to use the exact same notation in Sage then we need to tell Sage to use this as our new variable. To make sure Sage knows that we want to save something as a variable instead of a parameter, we can use the code $var('***')$, where we replace the *** with the variable we want to use.  Now copy the code into the cell below and un\\-comment the second line in order to declare $Y$ as the independent variable, then run the cell. \n"
   ]
  },
  {
   "cell_type": "code",
   "execution_count": 0,
   "id": "9cd51c",
   "metadata": {
    "collapsed": false,
    "editable": false,
    "jupyter": {
     "outputs_hidden": false
    },
    "slideshow": {
     "slide_type": ""
    },
    "tags": [
    ]
   },
   "outputs": [
   ],
   "source": [
    "#Exercise 0.2\n",
    "# var('Y')\n",
    "f(Y) = -Y + Y^2 \n",
    "f(-1)"
   ]
  },
  {
   "cell_type": "code",
   "execution_count": 2,
   "id": "5365d4",
   "metadata": {
    "collapsed": false,
    "jupyter": {
    }
   },
   "outputs": [
    {
     "data": {
      "text/plain": [
       "2"
      ]
     },
     "execution_count": 2,
     "metadata": {
     },
     "output_type": "execute_result"
    }
   ],
   "source": [
    "# Copy and paste the code above; modify below for your own work \n",
    "#Exercise 0.2\n",
    "var('Y')\n",
    "f(Y) = -Y + Y^2 \n",
    "f(-1)"
   ]
  },
  {
   "cell_type": "markdown",
   "id": "c70d8d",
   "metadata": {
    "collapsed": false,
    "deletable": true,
    "editable": false,
    "jupyter": {
     "outputs_hidden": false
    }
   },
   "source": [
    "#### <span style='font-family:Arial'><span style='color:#3f51b5'>**Questions 1.1-1.3 (Logistic Model)**</span></span>\n",
    "\n",
    "This code \"names\" parameters to be used later on in a function.  This is helpful so that parameters update uniformly as you test out values.  \n",
    "\n",
    "<u>**Question 1.1**</u>**:** Modify the code below for a logistic function $\\displaystyle X' = AX\\left(1-\\dfrac{X}{B}\\right)$ using the number of letters in your first name.  Include the following in your work:\n",
    "\n",
    "- Make the proportionality constant equal to the number of letters in your first name. \n",
    "- Make the carrying capacity equal to twice the number of letters in your first name.\n",
    "- Make the viewing window 0 &lt; X &lt; 25 with 0 &lt; X' &lt; 25.\n",
    "- Name this plot your favorite animal. \n",
    "- Display the plot by calling your plot. Note: Your last line should be a single word.\n",
    "\n",
    "_\\(Answer in Gradescope; you will upload a screenshot of your code and output cell.\\)_\n",
    "\n"
   ]
  },
  {
   "cell_type": "code",
   "execution_count": 0,
   "id": "6d436e",
   "metadata": {
    "collapsed": false,
    "editable": false,
    "jupyter": {
     "outputs_hidden": false
    }
   },
   "outputs": [
   ],
   "source": [
    "# Sample code for plotting a logistic function (Exercise 1.1)\n",
    "A = *** # Defines a value for the parameter A\n",
    "B = *** # Defines a value for the parameter B\n",
    "Xp(x) = A * x * (1- x/B) # Defines the logistic function\n",
    "*** = plot(Xp(x), (***,***,***), ymin = ***, ymax = ***, thickness = 3, color = 'seagreen', axes_labels=[\"X\",\"X'\"], fontsize = 10) # Names and saves the graph so that you can call it later without having to write out the whole command again\n",
    "*** # Displays the plot that you saved as the name of your favorite animal"
   ]
  },
  {
   "cell_type": "code",
   "execution_count": 3,
   "id": "4836e2",
   "metadata": {
    "collapsed": false,
    "jupyter": {
    }
   },
   "outputs": [
    {
     "data": {
      "image/png": "[encoded data removed]",
      "text/plain": [
       "Graphics object consisting of 1 graphics primitive"
      ]
     },
     "execution_count": 3,
     "metadata": {
     },
     "output_type": "execute_result"
    }
   ],
   "source": [
    "# Copy and paste the code above; modify below for your own work \n",
    "# Copy and paste the code above; modify below for your own work \n",
    "# Sample code for plotting a logistic function (Exercise 1.1)\n",
    "A = 5 # Defines a value for the parameter A\n",
    "B = 10 # Defines a value for the parameter B\n",
    "Xp(x) = A * x * (1- x/B) # Defines the logistic function\n",
    "cat = plot(Xp(x), (x,0,25), ymin = 0, ymax = 25, thickness = 3, color = 'seagreen', axes_labels=[\"X\",\"X'\"], fontsize = 10) # Names and saves the graph so that you can call it later without having to write out the whole command again\n",
    "cat # Displays the plot that you saved as the name of your favorite animal"
   ]
  },
  {
   "cell_type": "markdown",
   "id": "ff2937",
   "metadata": {
    "collapsed": false,
    "editable": false,
    "jupyter": {
     "outputs_hidden": false
    }
   },
   "source": [
    "<u>**Question 1.2**</u>**:** The function we've been plotting is a change equation for $X'$ , so the value of $X'$ represents the rate of change of the state variable $X$.\n",
    "\n",
    "_Reminder:_ $X'>0$  means $X$ is increasing; $X'=0$ means $X$ is constant \\(no change\\); and $X' <0$ means $X$ is decreasing. \n",
    "\n",
    "The code provided below uses a slider to vary the proportionality constant. Use the slider below to find a proportionality constant so that when the population is 20, we know that the population is decreasing. In your response on Gradescope, give the proportionality constant you chose and explain what it is about the graph that made you chose that value as your answer.  _Hint: Pay careful attention to the axes of the plot_ \n",
    "\n",
    "_\\(Answer in Gradescope.\\)_"
   ]
  },
  {
   "cell_type": "code",
   "execution_count": 4,
   "id": "3978a1",
   "metadata": {
    "collapsed": false,
    "editable": false,
    "jupyter": {
     "outputs_hidden": false
    }
   },
   "outputs": [
    {
     "data": {
      "application/vnd.jupyter.widget-view+json": {
       "model_id": "4867429cbed14342bb3bda12bd943815",
       "version_major": 2,
       "version_minor": 0
      },
      "text/plain": [
       "Interactive function <function Ex4b at 0x7f5ad2a4cd60> with 1 widget\n",
       "  k: FloatSlider(value=-1.0, description='k', max=3.0, min=-4.0, step=0.25)"
      ]
     },
     "execution_count": 4,
     "metadata": {
     },
     "output_type": "execute_result"
    }
   ],
   "source": [
    "# Sample code for plotting a Exercise 1.2\n",
    "B = 10\n",
    "@interact # Activates the slider in the code below\n",
    "def Ex4b(k = (-4, 3, 0.25)): \n",
    "    Xp(x) = k * x * (1 - x / B) \n",
    "    p4b = plot(Xp(x), (x, -5, 35), ymin = -50, ymax = 50, axes_labels=[\"X\",\"X'\"], fontsize = 8)\n",
    "    show(p4b) "
   ]
  },
  {
   "cell_type": "code",
   "execution_count": 0,
   "id": "2de3d1",
   "metadata": {
    "collapsed": false
   },
   "outputs": [
   ],
   "source": [
    "# Any positive k value will work.  The way we know X is decreasing is because when X=20, the height of the graph is below the horizontal axis (and thus X' is negative)"
   ]
  },
  {
   "cell_type": "markdown",
   "id": "6d24aa",
   "metadata": {
    "collapsed": false,
    "editable": false,
    "jupyter": {
     "outputs_hidden": false
    },
    "slideshow": {
     "slide_type": ""
    },
    "tags": [
    ]
   },
   "source": [
    "<u>**Question 1.3**</u>**:** Note that both the above graphs have the horizontal axis labeled with $X$ and the vertical axis labeled with $X'$.\n",
    "\n",
    "Suppose $X$ is our state variable representing the number of healthy flamingos in the Tucson Zoo.  Which statement best explains the relationship that this graph is expressing?\n",
    "\n",
    "- The height of the graph is showing the number of healthy flamingos at a given time.\n",
    "- The height of the graph is showing how quickly the population of healthy flamingos is changing for a given population.\n",
    "- The height of the graph is showing how the population of healthy flamingos changes over the first 25 days.\n",
    "- The slope of the graph is showing how quickly the population of healthy flamingos is changing for a given population.\n",
    "- The slope of the graph is showing how quickly the population of healthy flamingos changes at a given time.\n",
    "\n",
    "_\\(Answer in Gradescope\\)_\n",
    "\n"
   ]
  },
  {
   "cell_type": "code",
   "execution_count": 0,
   "id": "787382",
   "metadata": {
    "collapsed": false
   },
   "outputs": [
   ],
   "source": [
    "#The slope of the graph is showing how quickly the population of healthy flamingos is changing for a given population."
   ]
  },
  {
   "cell_type": "markdown",
   "id": "df2ab6",
   "metadata": {
    "collapsed": false,
    "editable": false,
    "jupyter": {
     "outputs_hidden": false
    },
    "slideshow": {
     "slide_type": ""
    },
    "tags": [
    ]
   },
   "source": [
    "#### <span style='font-family:Arial'><span style='color:#3f51b5'>**Questions 2.1-2.3 (More Logistic model)**</span></span>\n",
    "\n",
    "The logistic model is widely used in mathematical oncology to describe tumor growth. Early on, the volume of the tumor increases exponentially. Later, growth slows due to limited nutrients, oxygen, and space, and the tumor approaches a maximum sustainable size. If the volume grows beyond this size, the tumor shrinks.\n",
    "\n",
    "Suppose that $V$ represents the volume of the tumor in cubic milimeters.  The growth rate of the tumor in cubic miliemeters per day is given by the equation $$V' = 0.5V\\left(1-\\dfrac{V}{1300}\\right)$$\n",
    "\n",
    "**Supplemental material:** You can see an example of a research paper using the same type of models and coding we have been learning here: \n",
    "_Benzekry S, Lamont C, Beheshti A, Tracz A, Ebos JML, et al. (2014) Classical Mathematical Models for Description and Prediction of Experimental Tumor Growth. PLOS Computational Biology 10(8): e1003800._ [https://doi.org/10.1371/journal.pcbi.1003800](https://doi.org/10.1371/journal.pcbi.1003800)\n",
    "\n",
    "In Sage, replace the values from the generic logistic model with the numbers given in this problem.\n",
    "\n"
   ]
  },
  {
   "cell_type": "code",
   "execution_count": 0,
   "id": "6a9b6a",
   "metadata": {
    "collapsed": false,
    "editable": false,
    "jupyter": {
     "outputs_hidden": false
    },
    "slideshow": {
     "slide_type": ""
    },
    "tags": [
    ]
   },
   "outputs": [
   ],
   "source": [
    "var('V')   ##Defining P as our variable\n",
    "r=***\n",
    "k=***\n",
    "Vprime(V) = r*V*(1-(V/k))  "
   ]
  },
  {
   "cell_type": "code",
   "execution_count": 5,
   "id": "d3360e",
   "metadata": {
    "collapsed": false,
    "editable": true,
    "slideshow": {
     "slide_type": ""
    },
    "tags": [
    ]
   },
   "outputs": [
   ],
   "source": [
    "# Cell for work\n",
    "var('V')   ##Defining V as our variable\n",
    "r=0.5\n",
    "k=1300\n",
    "Vprime(V) = r*V*(1-(V/k))  "
   ]
  },
  {
   "cell_type": "markdown",
   "id": "25ad45",
   "metadata": {
    "collapsed": false,
    "editable": false,
    "jupyter": {
     "outputs_hidden": false
    },
    "slideshow": {
     "slide_type": ""
    },
    "tags": [
    ]
   },
   "source": [
    "<u>**Question 2.1**</u>**:** Using your function defined above, find the value of $V'$ when $V=1000$ \\(this should be a single line of code\\).  Round your answer to one decimal place.  What does the sign of this value tell you about how the tumor size is changing? _\\(Answer in Gradescope\\)_\n",
    "\n"
   ]
  },
  {
   "cell_type": "code",
   "execution_count": 6,
   "id": "71eaab",
   "metadata": {
    "collapsed": false,
    "editable": true,
    "jupyter": {
    },
    "slideshow": {
     "slide_type": ""
    },
    "tags": [
    ]
   },
   "outputs": [
    {
     "data": {
      "text/plain": [
       "115.384615384615"
      ]
     },
     "execution_count": 6,
     "metadata": {
     },
     "output_type": "execute_result"
    }
   ],
   "source": [
    "# Cell for work\n",
    "Vprime(1000)\n",
    "#This number is positive, so the tumor size is increasing."
   ]
  },
  {
   "cell_type": "markdown",
   "id": "1dab2c",
   "metadata": {
    "collapsed": false,
    "editable": false,
    "jupyter": {
     "outputs_hidden": false
    },
    "slideshow": {
     "slide_type": ""
    },
    "tags": [
    ]
   },
   "source": [
    "<u>**Question 2.2**</u>**:** Using your function defined above, find the value of $V'$ when $V=1300$ \\(this should be a single line of code\\).  Round your answer to one decimal place.  Why does $V=1300$ give you the $V'$ value that you found from your code?  _\\(Answer in Gradescope\\)_\n"
   ]
  },
  {
   "cell_type": "code",
   "execution_count": 7,
   "id": "30a47b",
   "metadata": {
    "collapsed": false,
    "jupyter": {
    },
    "slideshow": {
     "slide_type": ""
    },
    "tags": [
    ]
   },
   "outputs": [
    {
     "data": {
      "text/plain": [
       "0"
      ]
     },
     "execution_count": 7,
     "metadata": {
     },
     "output_type": "execute_result"
    }
   ],
   "source": [
    "# Cell for work\n",
    "Vprime(1300)\n",
    "#The tumor size is constant (or not changing)"
   ]
  },
  {
   "cell_type": "markdown",
   "id": "3dc921",
   "metadata": {
    "collapsed": false,
    "editable": false,
    "jupyter": {
     "outputs_hidden": false
    },
    "slideshow": {
     "slide_type": ""
    },
    "tags": [
    ]
   },
   "source": [
    "<u>**Question 2.3**</u>**:** Find a value of $V$ that would result in a decrease to the volume in the next day.  Explain how you know that $V$ will decrease in the short term.  _\\(Answer in Gradescope\\)_\n"
   ]
  },
  {
   "cell_type": "code",
   "execution_count": 8,
   "id": "1b4312",
   "metadata": {
    "collapsed": false,
    "editable": true,
    "jupyter": {
    },
    "slideshow": {
     "slide_type": ""
    },
    "tags": [
    ]
   },
   "outputs": [
    {
     "data": {
      "text/plain": [
       "-115.384615384615"
      ]
     },
     "execution_count": 8,
     "metadata": {
     },
     "output_type": "execute_result"
    }
   ],
   "source": [
    "# Cell for work\n",
    "Vprime(1500)\n",
    "#Any value above 1300 will work.  We know V is decreasing because the output value of V' is negative."
   ]
  },
  {
   "cell_type": "markdown",
   "id": "9a820b",
   "metadata": {
    "collapsed": false,
    "editable": false,
    "jupyter": {
     "outputs_hidden": false
    }
   },
   "source": [
    "#### <span style='font-family:Arial'><span style='color:#3f51b5'>**Questions 3.1-3.6 (SIR Model)**</span></span>\n",
    "\n",
    "The SIR model is used to predict the spread of a disease in a community.  The variables are\n",
    "\n",
    "- $S$: Number of susceptible people, who are currently healthy but could get the disease.\n",
    "- $I$: Number of infected people.\n",
    "- $R$: Number of people who have recovered or been removed \\(dying or going into quarantine\\).\n",
    "\n",
    "All three variables are a function of time, $t$, measured in days.  In the SIR model, they are related by the following equations for positive parameters $a$ and $b$,\n",
    "\n",
    "$\\begin{cases} S'=-aSI\\\\ I'=aSI-bI\\\\R'=bI\\end{cases}$\n",
    "\n"
   ]
  },
  {
   "cell_type": "markdown",
   "id": "d11257",
   "metadata": {
    "collapsed": false,
    "editable": false,
    "jupyter": {
     "outputs_hidden": false
    },
    "slideshow": {
     "slide_type": ""
    },
    "tags": [
    ]
   },
   "source": [
    "<u>**Question 3.1**</u>**:** In the model, susceptible people get sick by interacting with infected people.  Which term(s) represents this interaction?  Explain why they have the signs that they do.  _\\(Answer in Gradescope\\)_\n",
    "\n",
    "<u>**Question 3.2**</u>**:** Infected people recover so their number is reduced at a constant per capita rate. Which term(s) represent this? Explain why they have the signs they do.  _\\(Answer in Gradescope\\)_\n",
    "\n",
    "<u>**Question 3.3**</u>**:** The SIR model can be used to model the spread of Covid. If masks are introduced, which parameter, $a$ or $b$, is affected? Does the parameter increase or decrease? (Masks reduce the transmission between people.)  Explain your choice in the context of the model.  _\\(Answer in Gradescope\\)_\n",
    "\n",
    "<u>**Question 3.4**</u>**:**   The drug Paxlovid reduces the seriousness and length of Covid, but it does not prevent a person getting sick.  In the SIR model for Covid, which parameter, $a$ or $b$, is affected by the introduction of the drug Paxlovid? Would the affected parameter become a smaller value or a larger value?  Explain your choice in the context of the model. _\\(Answer in Gradescope\\)_\n",
    "\n"
   ]
  },
  {
   "cell_type": "code",
   "execution_count": 0,
   "id": "d519af",
   "metadata": {
    "collapsed": false
   },
   "outputs": [
   ],
   "source": [
    "#3.1: aSI, and the term is negative in S' because when someone turns from being susceptible to being infected, we lose that person as a susceptible individual.  The term is positive in I' because the number of infected people increases when a susceptible person gets sick.\n",
    "#3.2: bI, and the term is negative in I' because the person is no longer infected, they are recovering.  The term is positive in R' becasue the new recovering individual increases the number of recovering individuals.\n",
    "#3.3: a, The parameter should decrease.  Since aSI is the number of individuals that get sick, masks should reduce the probability that a susceptible person contracts covid, so a should decrease.\n",
    "#3.4: b, since bI is the number of people recovering, paxlovid should increase that number.  So b should increase."
   ]
  },
  {
   "cell_type": "markdown",
   "id": "3d1a6f",
   "metadata": {
    "collapsed": false,
    "editable": false,
    "jupyter": {
     "outputs_hidden": false
    },
    "slideshow": {
     "slide_type": ""
    },
    "tags": [
    ]
   },
   "source": [
    "<u>**Question 3.5**</u>**:** Modify the code below to find a set of values for $a$ and $b$ that make it so the entire population is infected within the first three days.  Upload a screenshot of your plot, and in the answer field state the values you used for $a$ and $b$ and explain how you know everyone got infected within 3 days.  (there are many solutions to this) \n",
    "\n",
    "_\\(Answer in Gradescope; you will upload a screenshot of your output cell.\\)_"
   ]
  },
  {
   "cell_type": "code",
   "execution_count": 0,
   "id": "499e23",
   "metadata": {
    "collapsed": false,
    "editable": false,
    "jupyter": {
     "outputs_hidden": false
    },
    "slideshow": {
     "slide_type": ""
    },
    "tags": [
    ]
   },
   "outputs": [
   ],
   "source": [
    "S0=50  ## this is the initial number of susceptible people.  Keep below 100\n",
    "I0=1  ## this is the initial number of infected people\n",
    "R0=0   ## this is the initial number of people who have recovered\n",
    "##therefore the total number of people in the model is S0 + I0 + R0\n",
    "a=0.03 ## the parameter 'a' in the model.  Keep 0 < a < 0.1\n",
    "b=0.1 ## the parameter 'b' in the model.  Keep 0 < b < 0.2\n",
    "\n",
    "\n",
    "## ---DO NOT CHANGE ANYTHING BELOW THIS LINE---\n",
    "S=S0 \n",
    "I=I0\n",
    "R=R0\n",
    "S_data=[S0]\n",
    "I_data=[I0]\n",
    "R_data=[R0]\n",
    "time_data=[0]\n",
    "\n",
    "t_end=25. ## when we want to stop taking measurements\n",
    "dt=0.15 ## How often we want to make a new measurement\n",
    "\n",
    "for time in srange(0,t_end,dt):\n",
    "    Sprime = -a*S*I        ##change equation for S\n",
    "    Iprime = a*S*I-b*I     ##change equation for I\n",
    "    Rprime = b*I           ##change equation for R\n",
    "\n",
    "    deltaS = Sprime*dt \n",
    "    deltaI = Iprime*dt\n",
    "    deltaR = Rprime*dt\n",
    "\n",
    "    S = S + deltaS  ## The new value for S based on the small change from the old values of S and I\n",
    "    I = I + deltaI ## The new value for I based on the small change from the old values of S and I\n",
    "    R = R + deltaR ## The new value for R based on the small change from the old values of R and I\n",
    "\n",
    "    S_data.append(S)\n",
    "    I_data.append(I)\n",
    "    R_data.append(R)\n",
    "    time_data.append(time)\n",
    "\n",
    "g1=list(zip(time_data,S_data))  ##time series for the S-data\n",
    "g2=list(zip(time_data,I_data))  ##time series for the I-data\n",
    "g3=list(zip(time_data,R_data))  ##time series for the R-data\n",
    "plot1=list_plot(g1, legend_label=\"S\", plotjoined=True)                     ##plot of time series for S\n",
    "plot2=list_plot(g2, color=\"red\", legend_label=\"I\",plotjoined=True)         ##plot of time series for I\n",
    "plot3=list_plot(g3, color=\"darkgreen\", legend_label=\"R\",plotjoined=True)   ##plot of time series for R\n",
    "\n",
    "combined = plot1 + plot2 + plot3  \n",
    "\n",
    "combined.axes_labels([\"time\", \"population\"])\n",
    "combined.legend(True)\n",
    "\n",
    "combined.show(legend_loc=\"upper right\")"
   ]
  },
  {
   "cell_type": "code",
   "execution_count": 9,
   "id": "d3f0cc",
   "metadata": {
    "collapsed": false,
    "editable": true,
    "slideshow": {
     "slide_type": ""
    },
    "tags": [
    ]
   },
   "outputs": [
    {
     "data": {
      "image/png": "[encoded data removed]",
      "text/plain": [
       "Graphics object consisting of 3 graphics primitives"
      ]
     },
     "execution_count": 9,
     "metadata": {
     },
     "output_type": "execute_result"
    }
   ],
   "source": [
    "# Copy and paste the code above; modify below for your own work \n",
    "# Copy and paste the code above; modify below for your own work\n",
    "S0=50  ## this is the initial number of susceptible people.  Keep below 100\n",
    "I0=1  ## this is the initial number of infected people\n",
    "R0=0   ## this is the initial number of people who have recovered\n",
    "##therefore the total number of people in the model is S0 + I0 + R0\n",
    "a=0.1 ## the parameter 'a' in the model.  Keep 0 < a < 0.1\n",
    "b=0.02 ## the parameter 'b' in the model.  Keep 0 < b < 0.2\n",
    "\n",
    "\n",
    "## ---DO NOT CHANGE ANYTHING BELOW THIS LINE---\n",
    "S=S0 \n",
    "I=I0\n",
    "R=R0\n",
    "S_data=[S0]\n",
    "I_data=[I0]\n",
    "R_data=[R0]\n",
    "time_data=[0]\n",
    "\n",
    "t_end=25. ## when we want to stop taking measurements\n",
    "dt=0.15 ## How often we want to make a new measurement\n",
    "\n",
    "for time in srange(0,t_end,dt):\n",
    "    Sprime = -a*S*I        ##change equation for S\n",
    "    Iprime = a*S*I-b*I     ##change equation for I\n",
    "    Rprime = b*I           ##change equation for R\n",
    "\n",
    "    deltaS = Sprime*dt \n",
    "    deltaI = Iprime*dt\n",
    "    deltaR = Rprime*dt\n",
    "\n",
    "    S = S + deltaS  ## The new value for S based on the small change from the old values of S and I\n",
    "    I = I + deltaI ## The new value for I based on the small change from the old values of S and I\n",
    "    R = R + deltaR ## The new value for R based on the small change from the old values of R and I\n",
    "\n",
    "    S_data.append(S)\n",
    "    I_data.append(I)\n",
    "    R_data.append(R)\n",
    "    time_data.append(time)\n",
    "\n",
    "g1=list(zip(time_data,S_data))  ##time series for the S-data\n",
    "g2=list(zip(time_data,I_data))  ##time series for the I-data\n",
    "g3=list(zip(time_data,R_data))  ##time series for the R-data\n",
    "plot1=list_plot(g1, legend_label=\"S\", plotjoined=True)                     ##plot of time series for S\n",
    "plot2=list_plot(g2, color=\"red\", legend_label=\"I\",plotjoined=True)         ##plot of time series for I\n",
    "plot3=list_plot(g3, color=\"darkgreen\", legend_label=\"R\",plotjoined=True)   ##plot of time series for R\n",
    "\n",
    "combined = plot1 + plot2 + plot3  \n",
    "\n",
    "combined.axes_labels([\"time\", \"population\"])\n",
    "combined.legend(True)\n",
    "\n",
    "combined.show(legend_loc=\"upper right\")"
   ]
  },
  {
   "cell_type": "code",
   "execution_count": 0,
   "id": "a87167",
   "metadata": {
    "collapsed": false
   },
   "outputs": [
   ],
   "source": [
    "#For everyone to get infected in the first three days, we need the transmission (controlled by parameter a) to be high and the recovery (controlled by parameter b) to be low.   We know everyone got sick because the height of the red I curve reaches a maximum before the horizontal axis reaches a value of 3."
   ]
  },
  {
   "cell_type": "markdown",
   "id": "a7b9ff",
   "metadata": {
    "collapsed": false,
    "editable": true,
    "jupyter": {
     "outputs_hidden": false
    },
    "slideshow": {
     "slide_type": ""
    },
    "tags": [
    ]
   },
   "source": [
    "<u>**Question 3.6**</u>**:** Copy the same code from above and modify to find a set of values for $a$ and $b$ that make it so that $\\underline{\\textbf{no more than half}}$ the entire population is infected at any one time.  Upload a screenshot of your plot, and in the answer field state the values you used for $a$ and $b$ and explain how you know no more than half the people were sick at once.  (There are many solutions to this)\n",
    "\n",
    " _\\(Answer in Gradescope; you will upload a screenshot of your output cell.\\)_"
   ]
  },
  {
   "cell_type": "code",
   "execution_count": 10,
   "id": "379c8e",
   "metadata": {
    "collapsed": false,
    "editable": true,
    "jupyter": {
    },
    "slideshow": {
     "slide_type": ""
    },
    "tags": [
    ]
   },
   "outputs": [
    {
     "data": {
      "image/png": "[encoded data removed]",
      "text/plain": [
       "Graphics object consisting of 3 graphics primitives"
      ]
     },
     "execution_count": 10,
     "metadata": {
     },
     "output_type": "execute_result"
    }
   ],
   "source": [
    "# Copy and paste the code above; modify below for your own work \n",
    "# Copy and paste the code above; modify below for your own work \n",
    "S0=50  ## this is the initial number of susceptible people.  Keep below 100\n",
    "I0=1  ## this is the initial number of infected people\n",
    "R0=0   ## this is the initial number of people who have recovered\n",
    "##therefore the total number of people in the model is S0 + I0 + R0\n",
    "a=0.01 ## the parameter 'a' in the model.  Keep 0 < a < 0.1\n",
    "b=0.19## the parameter 'b' in the model.  Keep 0 < b < 0.2\n",
    "\n",
    "\n",
    "## ---DO NOT CHANGE ANYTHING BELOW THIS LINE---\n",
    "S=S0 \n",
    "I=I0\n",
    "R=R0\n",
    "S_data=[S0]\n",
    "I_data=[I0]\n",
    "R_data=[R0]\n",
    "time_data=[0]\n",
    "\n",
    "t_end=25. ## when we want to stop taking measurements\n",
    "dt=0.15 ## How often we want to make a new measurement\n",
    "\n",
    "for time in srange(0,t_end,dt):\n",
    "    Sprime = -a*S*I        ##change equation for S\n",
    "    Iprime = a*S*I-b*I     ##change equation for I\n",
    "    Rprime = b*I           ##change equation for R\n",
    "\n",
    "    deltaS = Sprime*dt \n",
    "    deltaI = Iprime*dt\n",
    "    deltaR = Rprime*dt\n",
    "\n",
    "    S = S + deltaS  ## The new value for S based on the small change from the old values of S and I\n",
    "    I = I + deltaI ## The new value for I based on the small change from the old values of S and I\n",
    "    R = R + deltaR ## The new value for R based on the small change from the old values of R and I\n",
    "\n",
    "    S_data.append(S)\n",
    "    I_data.append(I)\n",
    "    R_data.append(R)\n",
    "    time_data.append(time)\n",
    "\n",
    "g1=list(zip(time_data,S_data))  ##time series for the S-data\n",
    "g2=list(zip(time_data,I_data))  ##time series for the I-data\n",
    "g3=list(zip(time_data,R_data))  ##time series for the R-data\n",
    "plot1=list_plot(g1, legend_label=\"S\", plotjoined=True)                     ##plot of time series for S\n",
    "plot2=list_plot(g2, color=\"red\", legend_label=\"I\",plotjoined=True)         ##plot of time series for I\n",
    "plot3=list_plot(g3, color=\"darkgreen\", legend_label=\"R\",plotjoined=True)   ##plot of time series for R\n",
    "\n",
    "combined = plot1 + plot2 + plot3  \n",
    "\n",
    "combined.axes_labels([\"time\", \"population\"])\n",
    "combined.legend(True)\n",
    "\n",
    "combined.show(legend_loc=\"upper right\")"
   ]
  },
  {
   "cell_type": "code",
   "execution_count": 0,
   "id": "3d5dc5",
   "metadata": {
    "collapsed": false
   },
   "outputs": [
   ],
   "source": [
    "#here we need a to be small (so that transmission is slow) and b to be larger (so that recovery happens quickly).  We know that no more than half got sick because the red curve never fully reaches half way to the maximum number of individuals."
   ]
  },
  {
   "cell_type": "markdown",
   "id": "9d66c1",
   "metadata": {
    "collapsed": false,
    "deletable": true,
    "editable": false,
    "jupyter": {
     "outputs_hidden": false
    },
    "slideshow": {
     "slide_type": ""
    },
    "tags": [
    ]
   },
   "source": [
    "#### <span style='font-family:Arial'><span style='color:#3f51b5'>**Question 4 (Modeling Marine Food Chain)**</span></span>\n",
    "\n",
    "Kelp ($K$), sea urchins ($U$), and sea otters ($S$) form a food chain off the coast of northern California.  Use the following assumptions to write a system of differential equations that models the food chain.  Assume that time is being measured in months for all rates.  _\\(Answer in Gradescope\\)_\n",
    "\n",
    "1. Kelp grows at a per biomass \\(like per capita\\) rate of 12%.\n",
    "2. Kelp competes and interacts with other kelp for sunlight.  Due to shading, kelp dies at a per biomass rate proportional to the amount of kelp with a proportionality constant of 0.03. \\(Note that this is an interaction/competition term\\)\n",
    "3. Sea urchins eat kelp, which helps them reproduce.  Sea urchins consume kelp at a rate of 1.6 per month.  \\(Note that this is a predation term: the urchins are interacting with and eating the kelp.\\)\n",
    "4. Sea urchins die of natural causes at a per capita rate of 0.08.\n",
    "5. Sea otters eat sea urchins, which helps them reproduce.  The rate at which a single sea otter eats sea urchins is proportional to the sea urchin population with a proportionality constant of 0.05. \\(This is a predation term: the otters are interacting with and eating the sea urchins.\\)\n",
    "6. Sea otters die at a per capita rate of 0.001.\n",
    "\n"
   ]
  },
  {
   "cell_type": "code",
   "execution_count": 0,
   "id": "fb62f4",
   "metadata": {
    "collapsed": false,
    "editable": true,
    "jupyter": {
     "outputs_hidden": false
    },
    "slideshow": {
     "slide_type": ""
    },
    "tags": [
    ]
   },
   "outputs": [
   ],
   "source": [
    "# Cell for scratch work.  (You can type a draft of your answers & copy/paste into the assignment for your submission.)"
   ]
  }
 ],
 "metadata": {
  "kernelspec": {
   "argv": [
    "sage-10.6",
    "--python",
    "-m",
    "sage.repl.ipython_kernel",
    "--matplotlib=inline",
    "-f",
    "{connection_file}"
   ],
   "display_name": "SageMath 10.6",
   "env": {
   },
   "language": "sagemath",
   "metadata": {
    "cocalc": {
     "description": "Open-source mathematical software system",
     "priority": 10,
     "url": "https://www.sagemath.org/"
    }
   },
   "name": "sage-10.6",
   "resource_dir": "/ext/jupyter/kernels/sage-10.6"
  },
  "language_info": {
   "codemirror_mode": {
    "name": "ipython",
    "version": 3
   },
   "file_extension": ".py",
   "mimetype": "text/x-python",
   "name": "python",
   "nbconvert_exporter": "python",
   "pygments_lexer": "ipython3",
   "version": "3.12.5"
  }
 },
 "nbformat": 4,
 "nbformat_minor": 4
}